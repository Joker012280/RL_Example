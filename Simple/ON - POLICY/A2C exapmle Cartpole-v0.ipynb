{
 "cells": [
  {
   "cell_type": "markdown",
   "metadata": {},
   "source": [
    "## (Synchronous) Advantage Actor-Critic cartpole-vo"
   ]
  },
  {
   "cell_type": "markdown",
   "metadata": {},
   "source": []
  },
  {
   "cell_type": "code",
   "execution_count": 3,
   "metadata": {},
   "outputs": [
    {
     "name": "stdout",
     "output_type": "stream",
     "text": [
      "1.3.1\n"
     ]
    }
   ],
   "source": [
    "import torch\n",
    "import torch.nn as nn\n",
    "import torch.nn.functional as F\n",
    "from torch.autograd import Variable\n",
    "import matplotlib.pyplot as plt\n",
    "import numpy as np\n",
    "import math\n",
    "import random\n",
    "import os\n",
    "import gym\n",
    "\n",
    "\n",
    "env = gym.make(\"CartPole-v0\")\n",
    "\n",
    "\n",
    "## Hyper Parameters / 환경에 따라서 바뀜 \n",
    "STATE_DIM = env.observation_space.shape[0]\n",
    "ACTION_DIM = env.action_space.n\n",
    "STEP = 2000\n",
    "SAMPLE_NUMS = 40\n",
    "## Network hidden size = 40\n",
    "\n",
    "episode_durations = []\n"
   ]
  },
  {
   "cell_type": "markdown",
   "metadata": {},
   "source": [
    "# Element\n",
    "* 에이전트(Agent) : Cart\n",
    "* 환경(Enviornment) : Cart Position,Velocity / Pole Angle , Velocity\n",
    "* 상태(State) : Cart & Pole Status // 현재 코드에서는 Screen을 통해서 얻음\n",
    "* 행동(Action)  : Push Cart to the Left or Right\n",
    "* 정책(Policy) : 네트워크 + Select Action \n",
    "    (Input : State / Output : Action Values => Select Action using Action values)\n",
    "* 보상(Reward) : 각 Step 마다 1점\n",
    "* 에피소드(Episode) : 폴이 넘어지면 Episode가 끝남 \n",
    "* 감가율(Discount Factor) : Gamma / \n",
    "* 행동 가치(State-Action-Value) : 네트워크를 통해 나온 계산 값\n",
    "* Exploration method : Random Choice / Trajectory에서 Random하게 Action을 Choice함.\n",
    "* On - policy :  Critic Network & Actor Network\n",
    "\n",
    "    \n",
    "    \n",
    "# Algorithm\n",
    "* A2C Algorithm : 아이디어는 여러명에 Agent가 있어서 각각 Agent의 결과를 모아서 학습하자는 아이디어이다. 이때 Advantage Fucntion을 이용하는데 A(s,a) = Q(s,a) - V(s)로 V(s) 는 Baseline이다. 여러개의 Trajectory를 이용해서 학습한다.\n",
    "* loss 정의 이유 : Actor의 loss는 advantage function을 이용하는데, action의 확률과 advantage의 곱의 평균으로 정의하고, Critic의 loss는 추정한 Value 값과 실제 value 값을 MSE를 이용해 정의한다.\n",
    "    \n",
    "\n"
   ]
  },
  {
   "cell_type": "code",
   "execution_count": null,
   "metadata": {},
   "outputs": [],
   "source": [
    "##Actor-Critic 방법에서는 두 개의 네트워크가 필요함.\n",
    "\n",
    "## NN설정 Actor (Action)\n",
    "class ActorNetwork(nn.Module):\n",
    "\n",
    "    def __init__(self,input_size,hidden_size,action_size):\n",
    "        super(ActorNetwork, self).__init__()\n",
    "        self.fc1 = nn.Linear(input_size,hidden_size)\n",
    "        self.fc2 = nn.Linear(hidden_size,hidden_size)\n",
    "        self.fc3 = nn.Linear(hidden_size,action_size)\n",
    "\n",
    "    def forward(self,x):\n",
    "        out = F.relu(self.fc1(x))\n",
    "        out = F.relu(self.fc2(out))\n",
    "        #Action의 값을 확률적으로 표현\n",
    "        out = F.log_softmax(self.fc3(out),dim=1)\n",
    "        return out\n",
    "\n",
    "    \n",
    "## NN설정 Critic (Value)\n",
    "class CriticNetwork(nn.Module):\n",
    "\n",
    "    def __init__(self,input_size,hidden_size,output_size):\n",
    "        super(CriticNetwork, self).__init__()\n",
    "        self.fc1 = nn.Linear(input_size,hidden_size)\n",
    "        self.fc2 = nn.Linear(hidden_size,hidden_size)\n",
    "        self.fc3 = nn.Linear(hidden_size,output_size)\n",
    "\n",
    "    def forward(self,x):\n",
    "        out = F.relu(self.fc1(x))\n",
    "        out = F.relu(self.fc2(out))\n",
    "        #Value값은 하나로 나옴(Output size = 1)\n",
    "        out = self.fc3(out)\n",
    "        return out"
   ]
  },
  {
   "cell_type": "code",
   "execution_count": null,
   "metadata": {},
   "outputs": [],
   "source": [
    "## gym Cartpole v-0 환경 수행\n",
    "## Actor가 최대 Sample_num 만큼 Trajectory를 만든다.\n",
    "def acting(actor_network,env,sample_nums,critic_network,init_state):\n",
    "    #env.reset()\n",
    "    states = []\n",
    "    actions = []\n",
    "    rewards = []\n",
    "    is_done = False\n",
    "    final_r = 0\n",
    "    state = init_state\n",
    "    ##Trajectory\n",
    "    for j in range(sample_nums):\n",
    "        \n",
    "        states.append(state)\n",
    "        ## Actor network를 통해 Action 값을 확률로 받는다.\n",
    "        log_softmax_action = actor_network(Variable(torch.Tensor([state])))\n",
    "        softmax_action = torch.exp(log_softmax_action)\n",
    "        ## Exploration\n",
    "        action = np.random.choice(ACTION_DIM,p=softmax_action.cpu().data.numpy()[0])\n",
    "        ## 이산적인 Action을 저장하기 위해 One Hot Code 사용 \n",
    "        ## Action 값이 1 또는 0 이어야함.\n",
    "        one_hot_action = [int(k == action) for k in range(ACTION_DIM)]\n",
    "        \n",
    "        next_state,reward,done,_ = env.step(action)\n",
    "        \n",
    "        actions.append(one_hot_action)\n",
    "        rewards.append(reward)\n",
    "        ## State를 다음 State로 넘어가는 과정.\n",
    "        final_state = next_state\n",
    "        state = next_state\n",
    "        \n",
    "        if done:\n",
    "            is_done = True\n",
    "            ## 끝나면 초기화\n",
    "            state = env.reset()\n",
    "            break\n",
    "    if not is_done:\n",
    "        ## 마지막 State에서의 reward\n",
    "        final_r = critic_network(Variable(torch.Tensor([final_state]))).data.numpy()\n",
    "\n",
    "    return states,actions,rewards,final_r,state"
   ]
  },
  {
   "cell_type": "code",
   "execution_count": null,
   "metadata": {},
   "outputs": [],
   "source": [
    "## 감가율 적용\n",
    "def discount_reward(r, gamma,final_r):\n",
    "    discounted_r = np.zeros_like(r)\n",
    "    running_add = final_r\n",
    "    ## 감가율을 적용하는데 reward값이 마지막부터 들어가기 때문에 Reversed이용\n",
    "    for t in reversed(range(0, len(r))):\n",
    "        running_add = running_add * gamma + r[t]\n",
    "        discounted_r[t] = running_add\n",
    "    return discounted_r"
   ]
  },
  {
   "cell_type": "code",
   "execution_count": null,
   "metadata": {},
   "outputs": [],
   "source": [
    "def plot_durations():\n",
    "    plt.figure(2)\n",
    "    plt.clf()\n",
    "    durations_t = torch.tensor(episode_durations, dtype=torch.float)\n",
    "    plt.title('Training...')\n",
    "    plt.xlabel('Episode')\n",
    "    plt.ylabel('Duration')\n",
    "    plt.plot(durations_t.numpy())\n",
    "    # 100개의 에피소드 평균을 가져 와서 도표 그리기\n",
    "    if len(durations_t) >= 100:\n",
    "        means = durations_t.unfold(0, 100, 1).mean(1).view(-1)\n",
    "        means = torch.cat((torch.zeros(99), means))\n",
    "        plt.plot(means.numpy())\n",
    "\n",
    "    plt.pause(0.001)  # 도표가 업데이트되도록 잠시 멈춤"
   ]
  },
  {
   "cell_type": "code",
   "execution_count": 2,
   "metadata": {},
   "outputs": [
    {
     "name": "stdout",
     "output_type": "stream",
     "text": [
      "step: 50 test result: 119.9\n",
      "step: 100 test result: 135.5\n",
      "step: 150 test result: 193.2\n",
      "step: 200 test result: 116.2\n",
      "step: 250 test result: 65.8\n"
     ]
    },
    {
     "name": "stderr",
     "output_type": "stream",
     "text": [
      "/opt/conda/lib/python3.7/site-packages/torch/nn/modules/loss.py:431: UserWarning: Using a target size (torch.Size([1])) that is different to the input size (torch.Size([])). This will likely lead to incorrect results due to broadcasting. Please ensure they have the same size.\n",
      "  return F.mse_loss(input, target, reduction=self.reduction)\n"
     ]
    },
    {
     "name": "stdout",
     "output_type": "stream",
     "text": [
      "step: 300 test result: 178.0\n",
      "step: 350 test result: 200.0\n",
      "step: 400 test result: 200.0\n",
      "step: 450 test result: 200.0\n",
      "step: 500 test result: 200.0\n",
      "step: 550 test result: 200.0\n",
      "step: 600 test result: 200.0\n",
      "step: 650 test result: 200.0\n",
      "step: 700 test result: 200.0\n",
      "step: 750 test result: 198.0\n",
      "step: 800 test result: 200.0\n",
      "step: 850 test result: 200.0\n",
      "step: 900 test result: 200.0\n",
      "step: 950 test result: 200.0\n",
      "step: 1000 test result: 200.0\n",
      "step: 1050 test result: 200.0\n",
      "step: 1100 test result: 200.0\n",
      "step: 1150 test result: 200.0\n",
      "step: 1200 test result: 200.0\n",
      "step: 1250 test result: 29.1\n",
      "step: 1300 test result: 200.0\n",
      "step: 1350 test result: 200.0\n",
      "step: 1400 test result: 200.0\n",
      "step: 1450 test result: 200.0\n",
      "step: 1500 test result: 200.0\n",
      "step: 1550 test result: 200.0\n",
      "step: 1600 test result: 200.0\n",
      "step: 1650 test result: 200.0\n",
      "step: 1700 test result: 200.0\n",
      "step: 1750 test result: 200.0\n",
      "step: 1800 test result: 200.0\n",
      "step: 1850 test result: 200.0\n",
      "step: 1900 test result: 200.0\n",
      "step: 1950 test result: 200.0\n",
      "step: 2000 test result: 200.0\n"
     ]
    },
    {
     "data": {
      "image/png": "[encoded data removed]",
      "text/plain": [
       "<Figure size 432x288 with 1 Axes>"
      ]
     },
     "metadata": {
      "needs_background": "light"
     },
     "output_type": "display_data"
    }
   ],
   "source": [
    "###초기화 부분\n",
    "\n",
    "## Env.reset()\n",
    "init_state = env.reset()\n",
    "\n",
    "## init value network\n",
    "critic_network = CriticNetwork(input_size = STATE_DIM,hidden_size = 40,output_size = 1)\n",
    "critic_network_optim = torch.optim.Adam(critic_network.parameters(),lr=0.01)\n",
    "\n",
    "## init actor network\n",
    "actor_network = ActorNetwork(STATE_DIM,40,ACTION_DIM)\n",
    "actor_network_optim = torch.optim.Adam(actor_network.parameters(),lr = 0.01)\n",
    "\n",
    "steps =[]\n",
    "env_episodes =[]\n",
    "test_results =[]\n",
    "episode_durations = []\n",
    "\n",
    "## On - policy 이기 때문에 에피소드를 진행하는 Policy를 학습\n",
    "for step in range(STEP):\n",
    "\n",
    "    ## Trajectory를 만듬.\n",
    "    states,actions,rewards,final_r,current_state = acting(actor_network,env,SAMPLE_NUMS,critic_network,init_state)\n",
    "    \n",
    "    init_state = current_state\n",
    "    \n",
    "    ## Tensor로 바꿔줌\n",
    "    actions_var = Variable(torch.Tensor(actions).view(-1,ACTION_DIM))\n",
    "    states_var = Variable(torch.Tensor(states).view(-1,STATE_DIM))\n",
    "\n",
    "    ## Train actor network\n",
    "    actor_network_optim.zero_grad()\n",
    "    log_softmax_actions = actor_network(states_var)\n",
    "    vs = critic_network(states_var).detach()\n",
    "    qs = Variable(torch.Tensor(discount_reward(rewards,0.99,final_r)))\n",
    "\n",
    "    \n",
    "    ## Adavantage를 이용한 loss 계산 (Adavantage Actor Critic)\n",
    "    advantages = qs - vs\n",
    "    actor_network_loss = - torch.mean(torch.sum(log_softmax_actions*actions_var,1)* advantages)\n",
    "    actor_network_loss.backward()\n",
    "    \n",
    "    ## Gradient가 너무 클 경우를 대비해 Clipping gradient 기법을 이용.\n",
    "    torch.nn.utils.clip_grad_norm_(actor_network.parameters(),0.5)\n",
    "    actor_network_optim.step()\n",
    "\n",
    "    ## Train value network\n",
    "    critic_network_optim.zero_grad()\n",
    "    target_values = qs\n",
    "    values = critic_network(states_var)\n",
    "    criterion = nn.MSELoss()\n",
    "    critic_network_loss = criterion(values.squeeze(),target_values)\n",
    "    critic_network_loss.backward()\n",
    "    \n",
    "    ## Gradient가 너무 클 경우를 대비해 Clipping gradient 기법을 이용.\n",
    "    torch.nn.utils.clip_grad_norm_(critic_network.parameters(),0.5)\n",
    "    critic_network_optim.step()\n",
    "    \n",
    "    ## 여기까지 학습\n",
    "\n",
    "    ## Testing while training\n",
    "    if (step + 1) % 50== 0:\n",
    "            result = 0\n",
    "            test_task = gym.make(\"CartPole-v0\")\n",
    "            for test_epi in range(10):\n",
    "                state = test_task.reset()\n",
    "                ## Test_step의 Range를 변경해도 됨 / Cartpole 학습 기준이 200회.\n",
    "                for test_step in range(200) :\n",
    "                    softmax_action = torch.exp(actor_network(Variable(torch.Tensor([state]))))\n",
    "                    action = np.argmax(softmax_action.data.numpy()[0])\n",
    "                    next_state,reward,done,_ = test_task.step(action)\n",
    "                    result += reward\n",
    "                    state = next_state\n",
    "                    if done:\n",
    "                        episode_durations.append(test_step + 1)\n",
    "                        break\n",
    "            print(\"step:\",step+1,\"test result:\",result/10.0)\n",
    "            steps.append(step+1)\n",
    "            test_results.append(result/10)\n",
    "            \n",
    "            \n",
    "plot_durations()"
   ]
  },
  {
   "cell_type": "code",
   "execution_count": 7,
   "metadata": {},
   "outputs": [],
   "source": [
    "## 결과 확인을 위함\n",
    "def plot_durations1():\n",
    "    plt.figure(2)\n",
    "    plt.clf()\n",
    "    durations_t = torch.tensor(results, dtype=torch.float)\n",
    "    plt.title('Testing')\n",
    "    plt.xlabel('Episode')\n",
    "    plt.ylabel('Duration')\n",
    "    plt.axhline(y=200,linestyle='--')\n",
    "    plt.plot(durations_t.numpy())\n",
    "    # 100개의 에피소드 평균을 가져 와서 도표 그리기\n",
    "    if len(durations_t) >= 100:\n",
    "        means = durations_t.unfold(0, 100, 1).mean(1).view(-1)\n",
    "        means = torch.cat((torch.zeros(99), means))\n",
    "        plt.plot(means.numpy())\n",
    "\n",
    "    plt.pause(0.001)  # 도표가 업데이트되도록 잠시 멈춤"
   ]
  },
  {
   "cell_type": "code",
   "execution_count": 11,
   "metadata": {},
   "outputs": [
    {
     "data": {
      "image/png": "[encoded data removed]",
      "text/plain": [
       "<Figure size 432x288 with 1 Axes>"
      ]
     },
     "metadata": {
      "needs_background": "light"
     },
     "output_type": "display_data"
    }
   ],
   "source": [
    "results = []\n",
    "result = 0\n",
    "test_task = gym.make(\"CartPole-v0\").unwrapped\n",
    "i_episodes =0\n",
    "for i_episodes in range(100):\n",
    "    state = test_task.reset()\n",
    "    ## 최대 스텝을 550으로 했지만 unwrapped를 해도 500을 넘어가지 않음.\n",
    "    for test_step in range(550) :\n",
    "        softmax_action = torch.exp(actor_network(Variable(torch.Tensor([state]))))\n",
    "        action = np.argmax(softmax_action.data.numpy()[0])\n",
    "        next_state,reward,done,_ = test_task.step(action)\n",
    "        result += reward\n",
    "        state = next_state\n",
    "        if done or test_step > 500:\n",
    "            results.append(test_step + 1)\n",
    "            break\n",
    "    steps.append(step+1)\n",
    "    test_results.append(result/10)\n",
    "            \n",
    "plot_durations1()\n"
   ]
  },
  {
   "cell_type": "markdown",
   "metadata": {},
   "source": [
    "Comment : 학습 속도도 빠르고, 결과도 좋다. CartPole 환경이다보니 매우 빠르게 수렴했지만 학습 속도가 빠르다는 것을 알 수 있다."
   ]
  }
 ],
 "metadata": {
  "kernelspec": {
   "display_name": "Python 3",
   "language": "python",
   "name": "python3"
  },
  "language_info": {
   "codemirror_mode": {
    "name": "ipython",
    "version": 3
   },
   "file_extension": ".py",
   "mimetype": "text/x-python",
   "name": "python",
   "nbconvert_exporter": "python",
   "pygments_lexer": "ipython3",
   "version": "3.7.3"
  }
 },
 "nbformat": 4,
 "nbformat_minor": 4
}
