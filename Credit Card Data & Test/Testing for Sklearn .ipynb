{
 "cells": [
  {
   "cell_type": "code",
   "execution_count": 16,
   "metadata": {},
   "outputs": [],
   "source": [
    "import math\n",
    "import pandas as pd\n",
    "from itertools import count\n",
    "import matplotlib.pyplot as plt\n",
    "import random\n",
    "import numpy as np\n",
    "import gym\n",
    "from IPython.display import clear_output\n",
    "from sklearn.ensemble import RandomForestClassifier\n",
    "from sklearn.neighbors import KNeighborsClassifier\n",
    "from sklearn.naive_bayes import GaussianNB\n",
    "from sklearn.metrics import accuracy_score\n",
    "\n",
    "\n",
    "train = pd.read_csv(\"./uci_creditcard-train-0.0-0.0.csv\")\n",
    "test = pd.read_csv(\"./uci_creditcard-test-0.0-0.0.csv\")\n",
    "\n",
    "plt.ion()\n"
   ]
  },
  {
   "cell_type": "code",
   "execution_count": 9,
   "metadata": {},
   "outputs": [],
   "source": [
    "## 데이터 전처리\n",
    "## Train data와 Target / Test Data와 Target으로 맞춤.\n",
    "\n",
    "X = train.drop('ID',axis=1)\n",
    "X = X.drop('default payment next month',axis = 1)\n",
    "train_data = X.drop('sep_idx', axis =1)\n",
    "\n",
    "train_target = train['default payment next month']\n",
    "\n",
    "Y = test.drop('ID',axis =1)\n",
    "Y = Y.drop('default payment next month',axis=1)\n",
    "test_data = Y.drop('sep_idx',axis =1)\n",
    "\n",
    "test_target = test['default payment next month']\n"
   ]
  },
  {
   "cell_type": "code",
   "execution_count": 23,
   "metadata": {},
   "outputs": [
    {
     "name": "stdout",
     "output_type": "stream",
     "text": [
      "Mean Accuracy Score : 0.777\n"
     ]
    },
    {
     "name": "stderr",
     "output_type": "stream",
     "text": [
      "/opt/conda/lib/python3.7/site-packages/sklearn/neural_network/_multilayer_perceptron.py:587: UserWarning: Training interrupted by user.\n",
      "  warnings.warn(\"Training interrupted by user.\")\n"
     ]
    }
   ],
   "source": [
    "from sklearn.neural_network import MLPClassifier\n",
    "\n",
    "\n",
    "mlp = MLPClassifier() # y = F()\n",
    "\n",
    "mlp.fit(train_data,train_target) # 여기까지 학습 끝! \n",
    "\n",
    "result = mlp.predict(test_data) #\n",
    "accuracy = accuracy_score(test_target,result)\n",
    "\n",
    "print(f'Mean Accuracy Score : {accuracy:.3}')\n",
    "\n",
    "\n",
    "\n"
   ]
  },
  {
   "cell_type": "code",
   "execution_count": 21,
   "metadata": {},
   "outputs": [
    {
     "name": "stdout",
     "output_type": "stream",
     "text": [
      "Mean Accuracy Score : 0.697\n"
     ]
    }
   ],
   "source": [
    "## KNN를 이용해서 Classification\n",
    "knn = KNeighborsClassifier(n_neighbors = 1) # y = F(x)\n",
    "\n",
    "knn.fit(train_data,train_target)\n",
    "\n",
    "predict = knn.predict(test_data)\n",
    "accuracy = accuracy_score(test_target,predict)\n",
    "\n",
    "print(f'Mean Accuracy Score : {accuracy:.3}')\n",
    "\n",
    "\n"
   ]
  },
  {
   "cell_type": "code",
   "execution_count": 22,
   "metadata": {},
   "outputs": [
    {
     "name": "stdout",
     "output_type": "stream",
     "text": [
      "Mean Accuracy Score : 0.697\n"
     ]
    }
   ],
   "source": [
    "gauss = GaussianNB()\n",
    "\n",
    "gauss.fit(train_data,train_target)\n",
    "\n",
    "predic = gauss.predict(test_data)\n",
    "accuracy = accuracy_score(test_target,predict)\n",
    "\n",
    "print(f'Mean Accuracy Score : {accuracy:.3}')"
   ]
  },
  {
   "cell_type": "code",
   "execution_count": null,
   "metadata": {},
   "outputs": [],
   "source": []
  },
  {
   "cell_type": "markdown",
   "metadata": {},
   "source": [
    "Comments : 강화학습 알고리즘 방식으로 Classification을 적용한 것과 비교하기 위한 실험으로, RandomForest 성능이 더 좋다는 것을 볼 수 있다."
   ]
  }
 ],
 "metadata": {
  "kernelspec": {
   "display_name": "Python 3",
   "language": "python",
   "name": "python3"
  },
  "language_info": {
   "codemirror_mode": {
    "name": "ipython",
    "version": 3
   },
   "file_extension": ".py",
   "mimetype": "text/x-python",
   "name": "python",
   "nbconvert_exporter": "python",
   "pygments_lexer": "ipython3",
   "version": "3.7.3"
  }
 },
 "nbformat": 4,
 "nbformat_minor": 2
}
